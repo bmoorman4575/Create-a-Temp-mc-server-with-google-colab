{
  "nbformat": 4,
  "nbformat_minor": 0,
  "metadata": {
    "colab": {
      "name": "Create a MC SERVER.ipynb",
      "provenance": [],
      "collapsed_sections": [],
      "toc_visible": true
    },
    "kernelspec": {
      "name": "python3",
      "display_name": "Python 3"
    },
    "language_info": {
      "name": "python"
    }
  },
  "cells": [
    {
      "cell_type": "markdown",
      "metadata": {
        "id": "vNEKkm2xCN0j"
      },
      "source": [
        "# Create a Temporary MC server for minecraft! (Required) V3\n",
        "to get started click the start button below to download server software and data.\n",
        "\n",
        "made by BTM / BMoorman4575"
      ]
    },
    {
      "cell_type": "code",
      "metadata": {
        "id": "QVkNMR9oEGVj",
        "colab": {
          "base_uri": "https://localhost:8080/"
        },
        "outputId": "d6740df2-022a-418e-f0ff-645be6aed52d"
      },
      "source": [
        "#@title right now modded servers arent working well will fix later\n",
        "print('coding is hard . . . ')"
      ],
      "execution_count": null,
      "outputs": [
        {
          "output_type": "stream",
          "text": [
            "coding is hard . . . \n"
          ],
          "name": "stdout"
        }
      ]
    },
    {
      "cell_type": "code",
      "metadata": {
        "id": "c8dEHIvQChq-"
      },
      "source": [
        "\n",
        "\n",
        "#@title Download server jar (Required) { display-mode: \"form\" }\n",
        "minecraft_version = \"1.16.5\" #@param [\"1.16.5\", \"1.16.4\", \"1.16.3\", \"1.16.2\",  \"1.16.1\",  \"1.15.2\", \"1.14.4\", \"1.13.2\", \"1.12.2\", \"1.11.2\", \"1.10.2\", \"1.9.4\", \"1.8.8\", \"Upload my own\"]\n",
        "Modded = \"false\" #@param [\"false\", \"true\"]\n",
        "#@markdown once this is done go down.\n",
        "print('click to start up server')\n",
        "print('setting up server . . .')\n",
        "!rm -rf /content/sample_data\n",
        "!git clone --progress https://github.com/bmoorman4575/MCservergithubcolab/ server\n",
        "%cd \"/content/server\"\n",
        "\n",
        "\n",
        "if Modded == \"true\":\n",
        "  print('installing forge ' + minecraft_version + ' . . .')\n",
        "  if minecraft_version == '1.16.5':\n",
        "    import requests\n",
        "    url = 'https://maven.minecraftforge.net/net/minecraftforge/forge/1.16.5-36.1.16/forge-1.16.5-36.1.16-installer.jar'\n",
        "    r = requests.get(url, allow_redirects=True)\n",
        "    open('serveru.jar', 'wb').write(r.content)\n",
        "  else:\n",
        "    if minecraft_version == '1.16.4':\n",
        "      import requests\n",
        "      url = 'https://maven.minecraftforge.net/net/minecraftforge/forge/1.16.4-35.1.37/forge-1.16.4-35.1.37-installer.jar'\n",
        "      r = requests.get(url, allow_redirects=True)\n",
        "      open('serveru.jar', 'wb').write(r.content)\n",
        "    else:\n",
        "      if minecraft_version == '1.16.3':\n",
        "        import requests\n",
        "        url = 'https://maven.minecraftforge.net/net/minecraftforge/forge/1.16.3-34.1.42/forge-1.16.3-34.1.42-installer.jar'\n",
        "        r = requests.get(url, allow_redirects=True)\n",
        "        open('serveru.jar', 'wb').write(r.content)\n",
        "      else:\n",
        "        if minecraft_version == \"1.16.2\":\n",
        "          import requests\n",
        "          url = 'https://maven.minecraftforge.net/net/minecraftforge/forge/1.16.2-33.0.61/forge-1.16.2-33.0.61-installer.jar'\n",
        "          r = requests.get(url, allow_redirects=True)\n",
        "          open('serveru.jar', 'wb').write(r.content)\n",
        "        else:\n",
        "          if minecraft_version == '1.16.1':\n",
        "            import requests\n",
        "            url = 'https://maven.minecraftforge.net/net/minecraftforge/forge/1.16.1-32.0.108/forge-1.16.1-32.0.108-installer.jar'\n",
        "            r = requests.get(url, allow_redirects=True)\n",
        "            open('serveru.jar', 'wb').write(r.content)\n",
        "          else:\n",
        "            if minecraft_version == '1.15.2':\n",
        "              import requests\n",
        "              url = 'https://maven.minecraftforge.net/net/minecraftforge/forge/1.15.2-31.2.50/forge-1.15.2-31.2.50-installer.jar'\n",
        "              r = requests.get(url, allow_redirects=True)\n",
        "              open('serveru.jar', 'wb').write(r.content)\n",
        "            else:\n",
        "              if minecraft_version == '1.14.4':\n",
        "                 import requests\n",
        "                 url = 'https://maven.minecraftforge.net/net/minecraftforge/forge/1.14.4-28.2.23/forge-1.14.4-28.2.23-installer.jar'\n",
        "                 r = requests.get(url, allow_redirects=True)\n",
        "                 open('serveru.jar', 'wb').write(r.content)\n",
        "              else:\n",
        "                if minecraft_version == '1.13.2':\n",
        "                 import requests\n",
        "                 url = 'https://maven.minecraftforge.net/net/minecraftforge/forge/1.13.2-25.0.219/forge-1.13.2-25.0.219-installer.jar'\n",
        "                 r = requests.get(url, allow_redirects=True)\n",
        "                 open('serveru.jar', 'wb').write(r.content)\n",
        "                else:\n",
        "                  if minecraft_version == '1.12.2':\n",
        "                   import requests\n",
        "                   url = 'https://maven.minecraftforge.net/net/minecraftforge/forge/1.12.2-14.23.5.2855/forge-1.12.2-14.23.5.2855-installer.jar'\n",
        "                   r = requests.get(url, allow_redirects=True)\n",
        "                   open('serveru.jar', 'wb').write(r.content)\n",
        "                  else:\n",
        "                   if minecraft_version == '1.11.2':\n",
        "                    import requests\n",
        "                    url = 'https://maven.minecraftforge.net/net/minecraftforge/forge/1.12.2-14.23.5.2855/forge-1.11.2-13.20.1.2588-installer.jar'\n",
        "                    r = requests.get(url, allow_redirects=True)\n",
        "                    open('serveru.jar', 'wb').write(r.content)\n",
        "                   else:\n",
        "                    if minecraft_version == '1.10.2':\n",
        "                      import requests\n",
        "                      url = 'https://maven.minecraftforge.net/net/minecraftforge/forge/1.10.2-12.18.3.2511/forge-1.10.2-12.18.3.2511-installer.jar'\n",
        "                      r = requests.get(url, allow_redirects=True)\n",
        "                      open('serveru.jar', 'wb').write(r.content)\n",
        "                    else:\n",
        "                      if minecraft_version == '1.9.4':\n",
        "                        import requests\n",
        "                        url = 'https://maven.minecraftforge.net/net/minecraftforge/forge/1.9.4-12.17.0.2317-1.9.4/forge-1.9.4-12.17.0.2317-1.9.4-installer.jar'\n",
        "                        r = requests.get(url, allow_redirects=True)\n",
        "                        open('serveru.jar', 'wb').write(r.content)\n",
        "                      else:\n",
        "                        if minecraft_version == '1.8.8':\n",
        "                          import requests\n",
        "                          url = 'https://maven.minecraftforge.net/net/minecraftforge/forge/1.8.8-11.15.0.1655/forge-1.8.8-11.15.0.1655-installer.jar'\n",
        "                          r = requests.get(url, allow_redirects=True)\n",
        "                          open('serveru.jar', 'wb').write(r.content)\n",
        "\n",
        "if Modded == \"true\":\n",
        "  %cd '/content/server'\n",
        "  import subprocess\n",
        "  !java -jar serveru.jar --installServer\n",
        "  import subprocess\n",
        "  if minecraft_version == '1.16.5':\n",
        "    subprocess.run(\"cp forge-1.16.5-36.1.16.jar server.jar\", shell=True)\n",
        "  else:\n",
        "    if minecraft_version == '1.16.4':\n",
        "     subprocess.run(\"cp forge-1.16.4-35.1.37.jar server.jar\", shell=True)\n",
        "    else:\n",
        "     if minecraft_version == '1.16.3':\n",
        "      subprocess.run(\"cp forge-1.16.3-34.1.42.jar server.jar\", shell=True)\n",
        "     else:\n",
        "      if minecraft_version == '1.16.2':\n",
        "       subprocess.run(\"cp forge-1.16.2-33.0.61.jar server.jar\", shell=True)\n",
        "      else:\n",
        "       if minecraft_version == '1.16.1':\n",
        "        subprocess.run(\"cp forge-1.16.1-32.0.108.jar server.jar\", shell=True)\n",
        "       else:\n",
        "         if minecraft_version == '1.14.4':\n",
        "          subprocess.run(\"cp forge-1.14.4-28.2.23.jar server.jar\", shell=True)\n",
        "         else:\n",
        "          if minecraft_version == '1.13.2':\n",
        "           subprocess.run(\"cp forge-1.13.2-25.0.219.jar server.jar\", shell=True)\n",
        "          else:\n",
        "           if minecraft_version == '1.12.2':\n",
        "            subprocess.run(\"cp forge-1.12.2-14.23.5.2855.jar server.jar\", shell=True)\n",
        "           else:\n",
        "            if minecraft_version == '1.11.2':\n",
        "             subprocess.run(\"cp forge-1.12.2-14.23.5.2855.jar server.jar\", shell=True)\n",
        "            else:\n",
        "             if minecraft_version == '1.10.2':\n",
        "              subprocess.run(\"cp forge-1.10.2-12.18.3.2511.jar server.jar\", shell=True)\n",
        "             else:\n",
        "              if minecraft_version == '1.9.4':\n",
        "               subprocess.run(\"cp forge-1.9.4-12.17.0.2317.jar server.jar\", shell=True)\n",
        "              else:\n",
        "               if minecraft_version == '1.8.8':\n",
        "                subprocess.run(\"cp forge-1.8.8-11.15.0.1655.jar server.jar\", shell=True)\n",
        "\n",
        "     \n",
        "\n",
        "if Modded == 'false':\n",
        "  if minecraft_version == 'Upload my own' :\n",
        "    print('File must be called server.jar')\n",
        "    from google.colab import files\n",
        "    uploaded = files.upload()\n",
        "  else:\n",
        "   import requests\n",
        "   url = 'https://papermc.io/api/v1/paper/' + minecraft_version + '/latest/download'\n",
        "   r = requests.get(url, allow_redirects=True)\n",
        "   open('server.jar', 'wb').write(r.content)\n",
        "   print('Done installing mc version ' + minecraft_version + ' have fun!')\n",
        "\n",
        "\n",
        "\n",
        "\n",
        "\n",
        "\n",
        "\n",
        "\n",
        "\n"
      ],
      "execution_count": null,
      "outputs": []
    },
    {
      "cell_type": "code",
      "metadata": {
        "id": "iv-eeTx2hIRM",
        "cellView": "form"
      },
      "source": [
        "#@title Do you agree to minecrafts UELA / set up server ip (Required)\n",
        "#@markdown https://account.mojang.com/documents/minecraft_eula\n",
        "uela = \"false\" #@param [\"false\", \"true\"]\n",
        "#@markdown click at the bottom and past this:\n",
        "\n",
        "#@markdown chmod +x ./playit-linux_64-0.2.0-beta-rc-3\n",
        "\n",
        "#@markdown then go to the end the click then past this:\n",
        "\n",
        "#@markdown ./playit-linux_64-0.2.0-beta-rc-3\n",
        "\n",
        "#@markdown Then it will give you a link click on it then at  the top of the page were it said your host under it is you server ip under there is  a list of games click Minecraft java. then add tunnel\n",
        "\n",
        "#@markdown once it says it connected you can shutdown the task by pressing the pause button a few times.\n",
        "if uela == 'false' :\n",
        "  print('You need to accept the UELA to start the server')\n",
        "else:\n",
        "  print('setting up server . . .')\n",
        "  %cd \"/content/server\"\n",
        "  ! sed -i 's/eula=false/eula=true/g' eula.txt\n",
        "  print('done with 1/2')\n",
        "  ! wget https://playit.gg/downloads/playit-linux_64-0.2.0-beta-rc-3\n",
        "  !tmux\n",
        "\n"
      ],
      "execution_count": null,
      "outputs": []
    },
    {
      "cell_type": "markdown",
      "metadata": {
        "id": "0Pa7c573sylL"
      },
      "source": [
        "now that your done with that step you can close this section as its not needed anymore"
      ]
    },
    {
      "cell_type": "markdown",
      "metadata": {
        "id": "_vLbZBjnvMKH"
      },
      "source": [
        "# Customize the server (Optional) "
      ]
    },
    {
      "cell_type": "markdown",
      "metadata": {
        "id": "FWW8LUcbVhy6"
      },
      "source": [
        "This is the defult server icon\n",
        "\n",
        "![server-icon.png](data:image/png;base64,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) i know not that good but it can be replaced."
      ]
    },
    {
      "cell_type": "code",
      "metadata": {
        "id": "KTTJvvVfFDAo",
        "cellView": "form"
      },
      "source": [
        "#@title <-- Upload a server icon\n",
        "#@markdown Must be named server-icon.png\n",
        "\n",
        "#@markdown if nothing is uploaded it will use a defult one\n",
        "%cd \"/content/server\"\n",
        "from google.colab import files\n",
        "uploaded = files.upload()\n",
        "open('server-icon.png', 'wb').write(r.content)"
      ],
      "execution_count": null,
      "outputs": []
    },
    {
      "cell_type": "code",
      "metadata": {
        "id": "nn-lOj2NV6Hf",
        "cellView": "form"
      },
      "source": [
        "#@title <-- upload a custom plugin\n",
        "%cd '/content/server'\n",
        "!mkdir plugins\n",
        "%cd \"/content/server/plugins\"\n",
        "from google.colab import files\n",
        "uploaded = files.upload()"
      ],
      "execution_count": null,
      "outputs": []
    },
    {
      "cell_type": "code",
      "metadata": {
        "cellView": "form",
        "id": "hW5_9FyWGFko"
      },
      "source": [
        "#@title <-- to upload custom mods (Require Modded server)\n",
        "%cd '/content/server'\n",
        "!mkdir mods\n",
        "%cd '/content/server/mods'\n",
        "from google.colab import files\n",
        "uploaded = files.upload()"
      ],
      "execution_count": null,
      "outputs": []
    },
    {
      "cell_type": "markdown",
      "metadata": {
        "id": "vQ8uItIPFEpJ"
      },
      "source": [
        "# start the server"
      ]
    },
    {
      "cell_type": "code",
      "metadata": {
        "id": "ScdtE_jAFKQa",
        "cellView": "form",
        "colab": {
          "base_uri": "https://localhost:8080/"
        },
        "outputId": "90f282e1-fe57-4f4b-93a4-c1888ff0de36"
      },
      "source": [
        "#@title this starts your server Below is the terminal were you can type commands op your self or other and do other things\n",
        "\n",
        "\n",
        "print('starting your mc server . . .')\n",
        "%cd \"/content/server\"\n",
        "!java -Xmx6144M -Xms6144M -XX:+UnlockExperimentalVMOptions -jar server.jar nogui\n"
      ],
      "execution_count": null,
      "outputs": [
        {
          "output_type": "stream",
          "text": [
            "starting your mc server . . .\n",
            "/content/server\n"
          ],
          "name": "stdout"
        }
      ]
    },
    {
      "cell_type": "markdown",
      "metadata": {
        "id": "BpmXaW6VFwYp"
      },
      "source": [
        "# Download the server!\n",
        "This server is not in you google drive its temporary!\n",
        "\n",
        "so when your done and you want to keep it DOWNLOAD IT!!!"
      ]
    },
    {
      "cell_type": "code",
      "metadata": {
        "cellView": "form",
        "id": "QAvr9j3WGBeS",
        "colab": {
          "base_uri": "https://localhost:8080/",
          "height": 34
        },
        "outputId": "0d23d69f-5af8-457f-e0de-9e18f5f2f7b2"
      },
      "source": [
        "#@title download world / worlds\n",
        "from google.colab import files\n",
        "files.download('/content/server/world') "
      ],
      "execution_count": null,
      "outputs": [
        {
          "output_type": "display_data",
          "data": {
            "application/javascript": [
              "\n",
              "    async function download(id, filename, size) {\n",
              "      if (!google.colab.kernel.accessAllowed) {\n",
              "        return;\n",
              "      }\n",
              "      const div = document.createElement('div');\n",
              "      const label = document.createElement('label');\n",
              "      label.textContent = `Downloading \"${filename}\": `;\n",
              "      div.appendChild(label);\n",
              "      const progress = document.createElement('progress');\n",
              "      progress.max = size;\n",
              "      div.appendChild(progress);\n",
              "      document.body.appendChild(div);\n",
              "\n",
              "      const buffers = [];\n",
              "      let downloaded = 0;\n",
              "\n",
              "      const channel = await google.colab.kernel.comms.open(id);\n",
              "      // Send a message to notify the kernel that we're ready.\n",
              "      channel.send({})\n",
              "\n",
              "      for await (const message of channel.messages) {\n",
              "        // Send a message to notify the kernel that we're ready.\n",
              "        channel.send({})\n",
              "        if (message.buffers) {\n",
              "          for (const buffer of message.buffers) {\n",
              "            buffers.push(buffer);\n",
              "            downloaded += buffer.byteLength;\n",
              "            progress.value = downloaded;\n",
              "          }\n",
              "        }\n",
              "      }\n",
              "      const blob = new Blob(buffers, {type: 'application/binary'});\n",
              "      const a = document.createElement('a');\n",
              "      a.href = window.URL.createObjectURL(blob);\n",
              "      a.download = filename;\n",
              "      div.appendChild(a);\n",
              "      a.click();\n",
              "      div.remove();\n",
              "    }\n",
              "  "
            ],
            "text/plain": [
              "<IPython.core.display.Javascript object>"
            ]
          },
          "metadata": {
            "tags": []
          }
        },
        {
          "output_type": "display_data",
          "data": {
            "application/javascript": [
              "download(\"download_12bb712e-e232-425e-a75c-b6e8d9d60d35\", \"world\", 4096)"
            ],
            "text/plain": [
              "<IPython.core.display.Javascript object>"
            ]
          },
          "metadata": {
            "tags": []
          }
        }
      ]
    },
    {
      "cell_type": "code",
      "metadata": {
        "id": "PfzUShDXGvII",
        "colab": {
          "base_uri": "https://localhost:8080/",
          "height": 17
        },
        "cellView": "form",
        "outputId": "e89657fe-8753-459c-d7cd-6383dac59f0c"
      },
      "source": [
        "#@title download server . properties\n",
        "from google.colab import files\n",
        "files.download('/content/server/server.properties') "
      ],
      "execution_count": null,
      "outputs": [
        {
          "output_type": "display_data",
          "data": {
            "application/javascript": [
              "\n",
              "    async function download(id, filename, size) {\n",
              "      if (!google.colab.kernel.accessAllowed) {\n",
              "        return;\n",
              "      }\n",
              "      const div = document.createElement('div');\n",
              "      const label = document.createElement('label');\n",
              "      label.textContent = `Downloading \"${filename}\": `;\n",
              "      div.appendChild(label);\n",
              "      const progress = document.createElement('progress');\n",
              "      progress.max = size;\n",
              "      div.appendChild(progress);\n",
              "      document.body.appendChild(div);\n",
              "\n",
              "      const buffers = [];\n",
              "      let downloaded = 0;\n",
              "\n",
              "      const channel = await google.colab.kernel.comms.open(id);\n",
              "      // Send a message to notify the kernel that we're ready.\n",
              "      channel.send({})\n",
              "\n",
              "      for await (const message of channel.messages) {\n",
              "        // Send a message to notify the kernel that we're ready.\n",
              "        channel.send({})\n",
              "        if (message.buffers) {\n",
              "          for (const buffer of message.buffers) {\n",
              "            buffers.push(buffer);\n",
              "            downloaded += buffer.byteLength;\n",
              "            progress.value = downloaded;\n",
              "          }\n",
              "        }\n",
              "      }\n",
              "      const blob = new Blob(buffers, {type: 'application/binary'});\n",
              "      const a = document.createElement('a');\n",
              "      a.href = window.URL.createObjectURL(blob);\n",
              "      a.download = filename;\n",
              "      div.appendChild(a);\n",
              "      a.click();\n",
              "      div.remove();\n",
              "    }\n",
              "  "
            ],
            "text/plain": [
              "<IPython.core.display.Javascript object>"
            ]
          },
          "metadata": {
            "tags": []
          }
        },
        {
          "output_type": "display_data",
          "data": {
            "application/javascript": [
              "download(\"download_4df39697-f41e-4367-87b5-8eea6b750715\", \"server.properties\", 1096)"
            ],
            "text/plain": [
              "<IPython.core.display.Javascript object>"
            ]
          },
          "metadata": {
            "tags": []
          }
        }
      ]
    },
    {
      "cell_type": "code",
      "metadata": {
        "cellView": "form",
        "id": "V0ZBF2ndG9bU",
        "colab": {
          "base_uri": "https://localhost:8080/",
          "height": 34
        },
        "outputId": "817b1c63-c6eb-4ad8-e6e1-07f5565993c3"
      },
      "source": [
        "#@title Download whole server TAKES AWILE\n",
        "from google.colab import files\n",
        "files.download('/content/server') "
      ],
      "execution_count": null,
      "outputs": [
        {
          "output_type": "display_data",
          "data": {
            "application/javascript": [
              "\n",
              "    async function download(id, filename, size) {\n",
              "      if (!google.colab.kernel.accessAllowed) {\n",
              "        return;\n",
              "      }\n",
              "      const div = document.createElement('div');\n",
              "      const label = document.createElement('label');\n",
              "      label.textContent = `Downloading \"${filename}\": `;\n",
              "      div.appendChild(label);\n",
              "      const progress = document.createElement('progress');\n",
              "      progress.max = size;\n",
              "      div.appendChild(progress);\n",
              "      document.body.appendChild(div);\n",
              "\n",
              "      const buffers = [];\n",
              "      let downloaded = 0;\n",
              "\n",
              "      const channel = await google.colab.kernel.comms.open(id);\n",
              "      // Send a message to notify the kernel that we're ready.\n",
              "      channel.send({})\n",
              "\n",
              "      for await (const message of channel.messages) {\n",
              "        // Send a message to notify the kernel that we're ready.\n",
              "        channel.send({})\n",
              "        if (message.buffers) {\n",
              "          for (const buffer of message.buffers) {\n",
              "            buffers.push(buffer);\n",
              "            downloaded += buffer.byteLength;\n",
              "            progress.value = downloaded;\n",
              "          }\n",
              "        }\n",
              "      }\n",
              "      const blob = new Blob(buffers, {type: 'application/binary'});\n",
              "      const a = document.createElement('a');\n",
              "      a.href = window.URL.createObjectURL(blob);\n",
              "      a.download = filename;\n",
              "      div.appendChild(a);\n",
              "      a.click();\n",
              "      div.remove();\n",
              "    }\n",
              "  "
            ],
            "text/plain": [
              "<IPython.core.display.Javascript object>"
            ]
          },
          "metadata": {
            "tags": []
          }
        },
        {
          "output_type": "display_data",
          "data": {
            "application/javascript": [
              "download(\"download_019b40f0-d3b9-43f0-9a1a-630256e06553\", \"server\", 4096)"
            ],
            "text/plain": [
              "<IPython.core.display.Javascript object>"
            ]
          },
          "metadata": {
            "tags": []
          }
        }
      ]
    }
  ]
}