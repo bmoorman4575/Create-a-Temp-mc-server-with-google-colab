{
  "nbformat": 4,
  "nbformat_minor": 0,
  "metadata": {
    "colab": {
      "name": "event mc server",
      "provenance": [],
      "collapsed_sections": [],
      "authorship_tag": "ABX9TyNB7uXiU853a392xoAwx6dw",
      "include_colab_link": true
    },
    "kernelspec": {
      "name": "python3",
      "display_name": "Python 3"
    },
    "language_info": {
      "name": "python"
    }
  },
  "cells": [
    {
      "cell_type": "markdown",
      "metadata": {
        "id": "view-in-github",
        "colab_type": "text"
      },
      "source": [
        "<a href=\"https://colab.research.google.com/github/bmoorman4575/MCservergithubcolab/blob/main/event_mc_server.ipynb\" target=\"_parent\"><img src=\"https://colab.research.google.com/assets/colab-badge.svg\" alt=\"Open In Colab\"/></a>"
      ]
    },
    {
      "cell_type": "markdown",
      "metadata": {
        "id": "vNEKkm2xCN0j"
      },
      "source": [
        "# Create a Temporary MC server for minecraft!\n",
        "to get started click the start button below to download server software and data."
      ]
    },
    {
      "cell_type": "code",
      "metadata": {
        "id": "c8dEHIvQChq-"
      },
      "source": [
        "#@title This gets the server info and data to run server { form-width: \"400px\", display-mode: \"both\" }\n",
        "\n",
        "!rm -rf /content/sample_data\n",
        "!git clone --progress https://github.com/bmoorman4575/MCservergithubcolab/ server\n",
        "\n",
        "%cd /content/server/1.16.1\n",
        "print('Done installing now starting for first run to set things up, It should fail and ask for a Uela for more info. . .')\n",
        "\n",
        "!java -Xms512M -Xmx512M -jar server.jar\n",
        "print('Now that it failed run the stuff below and move to then next section.')"
      ],
      "execution_count": null,
      "outputs": []
    },
    {
      "cell_type": "code",
      "metadata": {
        "colab": {
          "base_uri": "https://localhost:8080/"
        },
        "id": "iv-eeTx2hIRM",
        "outputId": "f57ca177-bdc6-4039-a48c-19dd6993cf31"
      },
      "source": [
        "#@title Do you agree to minecrafts UELA\n",
        "#@markdown https://account.mojang.com/documents/minecraft_eula\n",
        "uela = \"false\" #@param [\"false\", \"true\"]\n",
        "if uela == 'false' :\n",
        "  print('You need to accept the UELA to start the server')\n",
        "else:\n",
        "  print('setting up server . . .')\n",
        "  %cd \"/content/server/1.16.1\"\n",
        "  ! sed -i 's/eula=false/eula=true/g' eula.txt\n",
        "  print('done with 1/2')\n",
        "  ! wget https://playit.gg/downloads/playit-linux_64-0.2.0-beta-rc-3\n",
        "  !tmux\n",
        "\n"
      ],
      "execution_count": null,
      "outputs": [
        {
          "output_type": "stream",
          "text": [
            "\b\u001b[30m\u001b[47m6\u001b[m\b\u001b[30m\u001b[47m7\u001b[m\b\u001b[30m\u001b[47m6\u001b[m\b\u001b[30m\u001b[47m7\u001b[m\b\u001b[30m\u001b[47m6\u001b[m\b\u001b[30m\u001b[47m7\u001b[m\b\u001b[30m\u001b[47m6\u001b[m\b\u001b[30m\u001b[47m7\u001b[m\b\u001b[30m\u001b[47m6\u001b[m\b\u001b[30m\u001b[47m7\u001b[m\b\u001b[30m\u001b[47m6\u001b[m\b\u001b[30m\u001b[47m7\u001b[m\b\u001b[30m\u001b[47m6\u001b[m\b\u001b[30m\u001b[47m7\u001b[m\u001b[24;1H\u001b[37m\u001b[40m[0] 0:./playit-linux_64-0.2.0-beta-rc-3*          \"7620f25e86de\" 01:11 02-May-21\u001b[m\u001b[14;10H\b\u001b[30m\u001b[47m6\u001b[m\b\u001b[30m\u001b[47m7\u001b[m\b\u001b[30m\u001b[47m6\u001b[m\b\u001b[30m\u001b[47m7\u001b[m\b\u001b[30m\u001b[47m6\u001b[m\b\u001b[30m\u001b[47m7\u001b[m\b\u001b[30m\u001b[47m6\u001b[m"
          ],
          "name": "stdout"
        }
      ]
    }
  ]
}