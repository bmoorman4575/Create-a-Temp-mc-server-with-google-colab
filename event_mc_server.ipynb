{
  "nbformat": 4,
  "nbformat_minor": 0,
  "metadata": {
    "colab": {
      "name": "event mc server",
      "provenance": [],
      "collapsed_sections": []
    },
    "kernelspec": {
      "name": "python3",
      "display_name": "Python 3"
    },
    "language_info": {
      "name": "python"
    }
  },
  "cells": [
    {
      "cell_type": "markdown",
      "metadata": {
        "id": "vNEKkm2xCN0j"
      },
      "source": [
        "# Create a Temporary MC server for minecraft! (Required)\n",
        "to get started click the start button below to download server software and data."
      ]
    },
    {
      "cell_type": "code",
      "metadata": {
        "id": "c8dEHIvQChq-"
      },
      "source": [
        "#@title This gets the server info and data to run server (Required) { form-width: \"400px\", display-mode: \"both\" }\n",
        "minecraft_version = \"1.16.5\" #@param [\"1.16.5\", \"1.16.4\", \"1.16.3\", \"1.15.2\", \"1.14.4\", \"1.13.2\", \"1.12.2\", \"1.11.2\", \"1.10.2\", \"1.9.4\", \"1.8.8\", \"Upload my own\"]\n",
        "print('click to start up server')\n",
        "print('setting up server . . .')\n",
        "!rm -rf /content/sample_data\n",
        "!git clone --progress https://github.com/bmoorman4575/MCservergithubcolab/ server\n",
        "%cd \"/content/server\"\n",
        "\n",
        "if minecraft_version == 'Upload my own' :\n",
        "  print('File must be called server.jar')\n",
        "  from google.colab import files\n",
        "  uploaded = files.upload()\n",
        "else:\n",
        "  import requests\n",
        "  url = 'https://papermc.io/api/v1/paper/' + minecraft_version + '/latest/download'\n",
        "  r = requests.get(url, allow_redirects=True)\n",
        "  open('server.jar', 'wb').write(r.content)\n",
        "\n",
        "\n",
        "\n",
        "\n",
        "\n"
      ],
      "execution_count": null,
      "outputs": []
    },
    {
      "cell_type": "code",
      "metadata": {
        "id": "iv-eeTx2hIRM",
        "cellView": "form"
      },
      "source": [
        "#@title Do you agree to minecrafts UELA / set up server ip (Required)\n",
        "#@markdown https://account.mojang.com/documents/minecraft_eula\n",
        "uela = \"false\" #@param [\"false\", \"true\"]\n",
        "#@markdown click at the bottom and past this:\n",
        "\n",
        "#@markdown chmod +x ./playit-linux_64-0.2.0-beta-rc-3\n",
        "\n",
        "#@markdown then go to the end the click then past this:\n",
        "\n",
        "#@markdown ./playit-linux_64-0.2.0-beta-rc-3\n",
        "\n",
        "#@markdown Then it will give you a link click on it then at  the top of the page were it said your host under it is you server ip under there is  a list of games click Minecraft java. then add tunnel\n",
        "\n",
        "#@markdown once it says it connected you can shutdown the task by pressing the pause button a few times.\n",
        "if uela == 'false' :\n",
        "  print('You need to accept the UELA to start the server')\n",
        "else:\n",
        "  print('setting up server . . .')\n",
        "  %cd \"/content/server\"\n",
        "  ! sed -i 's/eula=false/eula=true/g' eula.txt\n",
        "  print('done with 1/2')\n",
        "  ! wget https://playit.gg/downloads/playit-linux_64-0.2.0-beta-rc-3\n",
        "  !tmux\n",
        "\n"
      ],
      "execution_count": null,
      "outputs": []
    },
    {
      "cell_type": "markdown",
      "metadata": {
        "id": "0Pa7c573sylL"
      },
      "source": [
        "now that your done with that step you can close this section as its not needed anymore"
      ]
    },
    {
      "cell_type": "markdown",
      "metadata": {
        "id": "_vLbZBjnvMKH"
      },
      "source": [
        "# Customize the server (Optional) "
      ]
    },
    {
      "cell_type": "code",
      "metadata": {
        "id": "KTTJvvVfFDAo"
      },
      "source": [
        ""
      ],
      "execution_count": null,
      "outputs": []
    },
    {
      "cell_type": "markdown",
      "metadata": {
        "id": "vQ8uItIPFEpJ"
      },
      "source": [
        "# start the server"
      ]
    },
    {
      "cell_type": "code",
      "metadata": {
        "cellView": "form",
        "id": "ScdtE_jAFKQa"
      },
      "source": [
        "#@title this starts your server Below is the terminal were you can type commands op your self or other and do other things\n",
        "print('starting your mc server . . .')\n",
        "!java -Xmx6144M -Xms6144M -XX:+UseG1GC -XX:+ParallelRefProcEnabled -XX:MaxGCPauseMillis=200 -XX:+UnlockExperimentalVMOptions -XX:+DisableExplicitGC -XX:+AlwaysPreTouch -XX:G1NewSizePercent=30 -XX:G1MaxNewSizePercent=40 -XX:G1HeapRegionSize=8M -XX:G1ReservePercent=20 -XX:G1HeapWastePercent=5 -XX:G1MixedGCCountTarget=4 -XX:InitiatingHeapOccupancyPercent=15 -XX:G1MixedGCLiveThresholdPercent=90 -XX:G1RSetUpdatingPauseTimePercent=5 -XX:SurvivorRatio=32 -XX:+PerfDisableSharedMem -XX:MaxTenuringThreshold=1 -Dusing.aikars.flags=https://mcflags.emc.gs -Daikars.new.flags=true -jar server.jar nogui"
      ],
      "execution_count": null,
      "outputs": []
    },
    {
      "cell_type": "markdown",
      "metadata": {
        "id": "BpmXaW6VFwYp"
      },
      "source": [
        "# Download the server!\n",
        "This server is not in you google drive its temporary!\n",
        "\n",
        "so when your done and you want to keep it DOWNLOAD IT!!!"
      ]
    },
    {
      "cell_type": "code",
      "metadata": {
        "cellView": "form",
        "id": "QAvr9j3WGBeS"
      },
      "source": [
        "#@title download world / worlds\n",
        "from google.colab import files\n",
        "files.download('/content/server/world') "
      ],
      "execution_count": null,
      "outputs": []
    },
    {
      "cell_type": "code",
      "metadata": {
        "cellView": "form",
        "id": "PfzUShDXGvII"
      },
      "source": [
        "#@title download server . properties\n",
        "from google.colab import files\n",
        "files.download('/content/server/server.properties') "
      ],
      "execution_count": null,
      "outputs": []
    },
    {
      "cell_type": "code",
      "metadata": {
        "cellView": "form",
        "id": "V0ZBF2ndG9bU"
      },
      "source": [
        "#@title Download whole server TAKES AWILE\n",
        "from google.colab import files\n",
        "files.download('/content/server') "
      ],
      "execution_count": null,
      "outputs": []
    }
  ]
}