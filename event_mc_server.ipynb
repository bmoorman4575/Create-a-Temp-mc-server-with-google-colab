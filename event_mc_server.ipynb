{
  "nbformat": 4,
  "nbformat_minor": 0,
  "metadata": {
    "colab": {
      "name": "event mc server",
      "provenance": [],
      "collapsed_sections": [],
      "authorship_tag": "ABX9TyMM8+6zn57TqYkzcmuJBRCB",
      "include_colab_link": true
    },
    "kernelspec": {
      "name": "python3",
      "display_name": "Python 3"
    },
    "language_info": {
      "name": "python"
    }
  },
  "cells": [
    {
      "cell_type": "markdown",
      "metadata": {
        "id": "view-in-github",
        "colab_type": "text"
      },
      "source": [
        "<a href=\"https://colab.research.google.com/github/bmoorman4575/MCservergithubcolab/blob/main/event_mc_server.ipynb\" target=\"_parent\"><img src=\"https://colab.research.google.com/assets/colab-badge.svg\" alt=\"Open In Colab\"/></a>"
      ]
    },
    {
      "cell_type": "markdown",
      "metadata": {
        "id": "XWEToj_2fXgn"
      },
      "source": [
        "# Create a temp mc server using google colab!\n",
        " press the button below to set up a server!\n",
        "# .\n",
        "all the options well be there for you to set up."
      ]
    }
  ]
}